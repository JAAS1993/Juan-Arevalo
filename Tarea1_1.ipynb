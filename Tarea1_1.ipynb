{
 "cells": [
  {
   "cell_type": "markdown",
   "metadata": {
    "collapsed": true
   },
   "source": [
    "# **Fotometría de apertura**"
   ]
  },
  {
   "cell_type": "markdown",
   "metadata": {},
   "source": [
    "1.- Propiedades de _NGC121_:"
   ]
  },
  {
   "cell_type": "markdown",
   "metadata": {},
   "source": [
    "    Es un cúmulo globular ubicado en la constelacion _\"El Tucán\"_ (Tucana).\n",
    "    Pertenece a la pequeña nube de magallanes (SMC).\n",
    "    Tiene una edad de 10 mil millones de años.\n",
    "    Coordenadas: RA: 00h 26m 48.25s\n",
    "                 DEC: -71° 32' 08''\n",
    "    Semieje mayor: 0.02 kpc\n",
    "    Semieje menor: 0.015 kpc\n",
    "    Distancia métrica: 0.061±0.003 Mpc\n",
    "    \n",
    "    Tabla de los enrojecimientos para distintas bandas, filtros e instrumentos:\n",
    "    \n",
    "    \n",
    "    \n",
    "    "
   ]
  },
  {
   "cell_type": "markdown",
   "metadata": {},
   "source": [
    "|  Instrumento  | filtro  |  Longitud de onda ($\\mu$m)  |    $$A_{\\lambda}$$ (mag)    |\n",
    "    | ------------- |:-------:|:-----------------------:| --------------:|\n",
    "    |    Landolt    |    U    |          0.35           |     0.160      |\n",
    "    |    Landolt    |    B    |          0.43           |     0.134      |\n",
    "    |    Landolt    |    V    |          0.54           |     0.101      |\n",
    "    |    Landolt    |    R    |          0.64           |     0.080      |\n",
    "    |    Landolt    |    I    |          0.80           |     0.056      |\n",
    "    |      ACS      |  f555w  |          0.54           |     0.103      |\n",
    "    |      ACS      |  f814w  |          0.80           |     0.056      |"
   ]
  },
  {
   "cell_type": "markdown",
   "metadata": {},
   "source": [
    "Magnitudes:\n",
    "\n",
    "| Región Espectral | Magnitud Aparente | Magnitud Absoluta |\n",
    "| ---------------- |:-----------------:| -----------------:|\n",
    "|   UltraVioleta   | 14.9515$\\pm$0.0082 | -3.99$\\pm$0.08   |\n",
    "| Infrarrojo Cercano| 9.041$\\pm$0.023  |  -9.90$\\pm$0.09   |"
   ]
  },
  {
   "cell_type": "markdown",
   "metadata": {},
   "source": [
    "**Fuentes**\n",
    ">https://www.nasa.gov/content/goddard/oldest-cluster/#.V6jxcNbtMxB\n",
    "\n",
    ">https://ned.ipac.caltech.edu/cgi-bin/objsearch?objname=NGC+121&extend=no&out_csys=Equatorial&out_equinox=J2000.0&obj_sort=RA+or+Longitude&of=pre_text&zv_breaker=30000.0&list_limit=5&img_stamp=YES#BasicData_0\n"
   ]
  },
  {
   "cell_type": "markdown",
   "metadata": {},
   "source": [
    "2.- Las imágenes las descargué de la página: http://hla.stsci.edu/hlaview.html#Images|filterText%3D%24filterTypes%3D|query_string=NGC121&posfilename=&poslocalname=&posfilecount=&listdelimiter=whitespace&listformat=degrees&RA=6.701040&Dec=-71.535670&Radius=0.200000&inst-control=all&inst=ACS&inst=ACSGrism&inst=WFC3&inst=WFPC2&inst=NICMOS&inst=NICGRISM&inst=COS&inst=WFPC2-PC&inst=STIS&inst=FOS&inst=GHRS&imagetype=best&prop_id=&spectral_elt=&proprietary=both&preview=1&output_size=256&cutout_size=12.8|ra=&dec=&sr=&level=&image=&inst=ACS%2CACSGrism%2CWFC3%2CWFPC2%2CNICMOS%2CNICGRISM%2CCOS%2CWFPC2-PC%2CSTIS%2CFOS%2CGHRS&ds=.\n",
    "\n",
    "_¿Qué es ACS?_ --> El ACS (Advanced Camera for Surveys) es un intrumento abordo del HST (Hubble Space Telescope), en el cual tiene un rango de longitud de onda desde el ultravioleta al infrarrojo cercano. Tiene un amplio campo de visión y una alta calidad de la imagen y alta sensibilidad para obtener la mayor informacion posible del Universo y así también hacer que el HST tenga una mayor probabilidad de descubrimiento. Contiene una herramienta óptica llamada _grism_ tal que puede ralizar espectroscopía.\n",
    "El ACS está compuesto por 3 sub intrumentos o canales: \n",
    "   - WFC (Wide Field Channel)\n",
    "   - SBC (Solar Blind Channel)\n",
    "   - HRC (High Resolution Channel)\n",
    "   \n",
    "_¿Qué es el HRC?_ --> Es un instrumento creado para tomar imágenes detalladas de los centros de la galaxia con agujeros negros supermasivos. El instrumento incluye un cronógrafo que es capáz de mejorar el contraste de Hubble cerca de objetos brillantes.\n",
    "\n",
    "El filtro F555W es cercano al filtro V del sistema Johnson y el filtro F814W es cercano al filtro I (Esto se puede observar en la primera tabla del inciso anterior).\n",
    "\n",
    "Las imágenes tienen la extensión **FITS** (Flexible Image Transport System) lo que define un formato de archivo digital útil para el almacenamiento, transmisión y procesamiento de imágenes cientificas.\n",
    "\n"
   ]
  },
  {
   "cell_type": "code",
   "execution_count": 59,
   "metadata": {
    "collapsed": false
   },
   "outputs": [],
   "source": [
    "from astropy.io import fits\n",
    "Im1=fits.open('hst_10396_a4_acs_hrc_f555w_drz.fits','readonly') #La variable Im1 es una lista con el contenido del archivo.fits\n",
    "Im2=fits.open('hst_10396_a4_acs_hrc_f814w_drz.fits','readonly')"
   ]
  },
  {
   "cell_type": "code",
   "execution_count": 60,
   "metadata": {
    "collapsed": false,
    "scrolled": true
   },
   "outputs": [
    {
     "name": "stdout",
     "output_type": "stream",
     "text": [
      "Filename: hst_10396_a4_acs_hrc_f555w_drz.fits\n",
      "No.    Name         Type      Cards   Dimensions   Format\n",
      "0    PRIMARY     PrimaryHDU     824   ()              \n",
      "1    SCI         ImageHDU        70   (1442, 1464)   float32   \n",
      "2    WHT         ImageHDU        47   (1442, 1464)   float32   \n",
      "3    CTX         ImageHDU        40   (1442, 1464)   int32   \n",
      "4    HDRTAB      BinTableHDU    631   6R x 311C    [9A, 3A, J, D, D, D, D, D, D, D, D, D, D, D, D, 4A, J, 7A, 9A, 7A, 18A, 4A, D, D, D, D, 3A, D, D, D, D, D, D, D, D, D, D, D, D, J, 8A, 23A, D, D, D, D, J, J, J, 8A, J, 23A, 9A, 19A, D, 1A, D, J, J, J, J, J, 23A, D, D, D, D, J, J, 3A, 23A, D, 4A, J, D, D, D, 3A, 1A, J, D, D, D, D, D, 4A, 4A, 12A, 12A, 3A, 8A, 23A, 10A, 10A, D, D, 3A, 3A, 23A, 4A, 8A, 7A, 3A, D, J, D, 6A, 9A, 8A, D, D, J, 4A, 18A, 3A, J, 5A, 7A, 3A, D, 13A, 8A, 4A, 3A, J, J, J, J, J, J, J, D, D, D, D, D, D, 23A, 1A, D, 23A, D, D, D, 3A, 23A, J, 1A, 3A, 1A, D, 3A, 6A, D, D, D, D, D, D, D, D, D, D, D, 23A, D, D, D, D, 3A, D, D, D, 1A, J, J, J, J, J, J, 23A, J, 5A, 7A, D, D, D, D, D, D, D, D, D, D, D, D, D, D, D, D, D, 12A, D, 24A, 23A, D, 2A, 8A, D, J, D, D, 6A, 13A, D, 19A, J, D, J, 4A, D, D, D, D, D, 3A, 23A, D, 8A, D, 28A, D, 3A, D, J, D, D, 3A, 4A, 9A, 2A, D, 7A, J, 1A, 1A, 1A, 1A, D, D, D, D, D, D, 4A, D, 4A, D, 4A, J, 4A, 3A, 1A, J, J, J, 1A, D, D, D, D, J, 3A, J, J, 6A, J, D, D, 6A, D, D, 3A, 8A, 1A, D, J, D, D, J, 5A, 4A, J, D, D, D, D, D, D, D, D, D, D, D, D, D, D, 8A, 8A, 3A, 3A]   \n",
      "5    EXP         ImageHDU         8   (1442, 1464)   float32   \n",
      "Filename: hst_10396_a4_acs_hrc_f814w_drz.fits\n",
      "No.    Name         Type      Cards   Dimensions   Format\n",
      "0    PRIMARY     PrimaryHDU     824   ()              \n",
      "1    SCI         ImageHDU        70   (1442, 1464)   float32   \n",
      "2    WHT         ImageHDU        47   (1442, 1464)   float32   \n",
      "3    CTX         ImageHDU        40   (1442, 1464)   int32   \n",
      "4    HDRTAB      BinTableHDU    631   6R x 311C    [9A, 3A, J, D, D, D, D, D, D, D, D, D, D, D, D, 4A, J, 7A, 9A, 7A, 18A, 4A, D, D, D, D, 3A, D, D, D, D, D, D, D, D, D, D, D, D, J, 8A, 23A, D, D, D, D, J, J, J, 8A, J, 23A, 9A, 19A, D, 1A, D, J, J, J, J, J, 23A, D, D, D, D, J, J, 3A, 23A, D, 4A, J, D, D, D, 3A, 1A, J, D, D, D, D, D, 4A, 4A, 12A, 12A, 3A, 8A, 23A, 10A, 10A, D, D, 3A, 3A, 23A, 4A, 8A, 7A, 3A, D, J, D, 6A, 9A, 8A, D, D, J, 4A, 18A, 3A, J, 7A, 5A, 3A, D, 13A, 8A, 4A, 3A, J, J, J, J, J, J, J, D, D, D, D, D, D, 23A, 1A, D, 23A, D, D, D, 3A, 23A, J, 1A, 3A, 1A, D, 3A, 6A, D, D, D, D, D, D, D, D, D, D, D, 23A, D, D, D, D, 3A, D, D, D, 1A, J, J, J, J, J, J, 23A, J, 5A, 7A, D, D, D, D, D, D, D, D, D, D, D, D, D, D, D, D, D, 12A, D, 24A, 23A, D, 2A, 8A, D, J, D, D, 6A, 13A, D, 19A, J, D, J, 4A, D, D, D, D, D, 3A, 23A, D, 8A, D, 28A, D, 3A, D, J, D, D, 3A, 4A, 9A, 2A, D, 7A, J, 1A, 1A, 1A, 1A, D, D, D, D, D, D, 4A, D, 4A, D, 4A, J, 4A, 3A, 1A, J, J, J, 1A, D, D, D, D, J, 3A, J, J, 6A, J, D, D, 6A, D, D, 3A, 8A, 1A, D, J, D, D, J, 5A, 4A, J, D, D, D, D, D, D, D, D, D, D, D, D, D, D, 8A, 8A, 3A, 3A]   \n",
      "5    EXP         ImageHDU         8   (1442, 1464)   float32   \n"
     ]
    }
   ],
   "source": [
    "Im1.info() #Con este comando puedo observar las extensiones que tiene el archivo Im1 que abrí en la línea de arriba\n",
    "Im2.info()"
   ]
  },
  {
   "cell_type": "code",
   "execution_count": 67,
   "metadata": {
    "collapsed": false
   },
   "outputs": [
    {
     "ename": "ValueError",
     "evalue": "I/O operation on closed file",
     "output_type": "error",
     "traceback": [
      "\u001b[1;31m---------------------------------------------------------------------------\u001b[0m",
      "\u001b[1;31mValueError\u001b[0m                                Traceback (most recent call last)",
      "\u001b[1;32m<ipython-input-67-e884696d93b7>\u001b[0m in \u001b[0;36m<module>\u001b[1;34m()\u001b[0m\n\u001b[0;32m      1\u001b[0m \u001b[1;31m#A continuación procedí a guardar las extensiones 1 y 2 (que corresponden a la imagen de ciencia y a la que contiene el inverso de la varianza) en un archivo\u001b[0m\u001b[1;33m\u001b[0m\u001b[1;33m\u001b[0m\u001b[0m\n\u001b[0;32m      2\u001b[0m \u001b[1;33m\u001b[0m\u001b[0m\n\u001b[1;32m----> 3\u001b[1;33m \u001b[0mIm1\u001b[0m\u001b[1;33m[\u001b[0m\u001b[1;36m1\u001b[0m\u001b[1;33m]\u001b[0m\u001b[1;33m.\u001b[0m\u001b[0mwriteto\u001b[0m\u001b[1;33m(\u001b[0m\u001b[1;34m'sci_f555w_n121.fits'\u001b[0m\u001b[1;33m,\u001b[0m\u001b[0mclobber\u001b[0m\u001b[1;33m=\u001b[0m\u001b[0mTrue\u001b[0m\u001b[1;33m)\u001b[0m\u001b[1;33m\u001b[0m\u001b[0m\n\u001b[0m\u001b[0;32m      4\u001b[0m \u001b[0mIm1\u001b[0m\u001b[1;33m[\u001b[0m\u001b[1;36m2\u001b[0m\u001b[1;33m]\u001b[0m\u001b[1;33m.\u001b[0m\u001b[0mwriteto\u001b[0m\u001b[1;33m(\u001b[0m\u001b[1;34m'invar_f555w_n121.fits'\u001b[0m\u001b[1;33m,\u001b[0m\u001b[0mclobber\u001b[0m\u001b[1;33m=\u001b[0m\u001b[0mTrue\u001b[0m\u001b[1;33m)\u001b[0m\u001b[1;33m\u001b[0m\u001b[0m\n\u001b[0;32m      5\u001b[0m \u001b[0mIm2\u001b[0m\u001b[1;33m[\u001b[0m\u001b[1;36m1\u001b[0m\u001b[1;33m]\u001b[0m\u001b[1;33m.\u001b[0m\u001b[0mwriteto\u001b[0m\u001b[1;33m(\u001b[0m\u001b[1;34m'sci_f814w_n121.fits'\u001b[0m\u001b[1;33m,\u001b[0m\u001b[0mclobber\u001b[0m\u001b[1;33m=\u001b[0m\u001b[0mTrue\u001b[0m\u001b[1;33m)\u001b[0m\u001b[1;33m\u001b[0m\u001b[0m\n",
      "\u001b[1;32m/home/juanito/anaconda2/lib/python2.7/site-packages/astropy/io/fits/hdu/base.pyc\u001b[0m in \u001b[0;36mwriteto\u001b[1;34m(self, name, output_verify, clobber, checksum)\u001b[0m\n\u001b[0;32m   1768\u001b[0m         \u001b[0mhdulist\u001b[0m \u001b[1;33m=\u001b[0m \u001b[0mHDUList\u001b[0m\u001b[1;33m(\u001b[0m\u001b[1;33m[\u001b[0m\u001b[0mPrimaryHDU\u001b[0m\u001b[1;33m(\u001b[0m\u001b[1;33m)\u001b[0m\u001b[1;33m,\u001b[0m \u001b[0mself\u001b[0m\u001b[1;33m]\u001b[0m\u001b[1;33m)\u001b[0m\u001b[1;33m\u001b[0m\u001b[0m\n\u001b[0;32m   1769\u001b[0m         hdulist.writeto(name, output_verify, clobber=clobber,\n\u001b[1;32m-> 1770\u001b[1;33m                         checksum=checksum)\n\u001b[0m\u001b[0;32m   1771\u001b[0m \u001b[1;33m\u001b[0m\u001b[0m\n\u001b[0;32m   1772\u001b[0m     \u001b[1;32mdef\u001b[0m \u001b[0m_verify\u001b[0m\u001b[1;33m(\u001b[0m\u001b[0mself\u001b[0m\u001b[1;33m,\u001b[0m \u001b[0moption\u001b[0m\u001b[1;33m=\u001b[0m\u001b[1;34m'warn'\u001b[0m\u001b[1;33m)\u001b[0m\u001b[1;33m:\u001b[0m\u001b[1;33m\u001b[0m\u001b[0m\n",
      "\u001b[1;32m/home/juanito/anaconda2/lib/python2.7/site-packages/astropy/io/fits/hdu/hdulist.pyc\u001b[0m in \u001b[0;36mwriteto\u001b[1;34m(self, fileobj, output_verify, clobber, checksum)\u001b[0m\n\u001b[0;32m    690\u001b[0m             \u001b[0mhdu\u001b[0m\u001b[1;33m.\u001b[0m\u001b[0m_prewriteto\u001b[0m\u001b[1;33m(\u001b[0m\u001b[0mchecksum\u001b[0m\u001b[1;33m=\u001b[0m\u001b[0mchecksum\u001b[0m\u001b[1;33m)\u001b[0m\u001b[1;33m\u001b[0m\u001b[0m\n\u001b[0;32m    691\u001b[0m             \u001b[1;32mtry\u001b[0m\u001b[1;33m:\u001b[0m\u001b[1;33m\u001b[0m\u001b[0m\n\u001b[1;32m--> 692\u001b[1;33m                 \u001b[0mhdu\u001b[0m\u001b[1;33m.\u001b[0m\u001b[0m_writeto\u001b[0m\u001b[1;33m(\u001b[0m\u001b[0mhdulist\u001b[0m\u001b[1;33m.\u001b[0m\u001b[0m_file\u001b[0m\u001b[1;33m)\u001b[0m\u001b[1;33m\u001b[0m\u001b[0m\n\u001b[0m\u001b[0;32m    693\u001b[0m             \u001b[1;32mfinally\u001b[0m\u001b[1;33m:\u001b[0m\u001b[1;33m\u001b[0m\u001b[0m\n\u001b[0;32m    694\u001b[0m                 \u001b[0mhdu\u001b[0m\u001b[1;33m.\u001b[0m\u001b[0m_postwriteto\u001b[0m\u001b[1;33m(\u001b[0m\u001b[1;33m)\u001b[0m\u001b[1;33m\u001b[0m\u001b[0m\n",
      "\u001b[1;32m/home/juanito/anaconda2/lib/python2.7/site-packages/astropy/io/fits/hdu/base.pyc\u001b[0m in \u001b[0;36m_writeto\u001b[1;34m(self, fileobj, inplace, copy)\u001b[0m\n\u001b[0;32m    745\u001b[0m         \u001b[1;32mif\u001b[0m \u001b[1;32mnot\u001b[0m \u001b[0minplace\u001b[0m \u001b[1;32mor\u001b[0m \u001b[0mself\u001b[0m\u001b[1;33m.\u001b[0m\u001b[0m_new\u001b[0m\u001b[1;33m:\u001b[0m\u001b[1;33m\u001b[0m\u001b[0m\n\u001b[0;32m    746\u001b[0m             \u001b[0mheader_offset\u001b[0m\u001b[1;33m,\u001b[0m \u001b[0m_\u001b[0m \u001b[1;33m=\u001b[0m \u001b[0mself\u001b[0m\u001b[1;33m.\u001b[0m\u001b[0m_writeheader\u001b[0m\u001b[1;33m(\u001b[0m\u001b[0mfileobj\u001b[0m\u001b[1;33m)\u001b[0m\u001b[1;33m\u001b[0m\u001b[0m\n\u001b[1;32m--> 747\u001b[1;33m             \u001b[0mdata_offset\u001b[0m\u001b[1;33m,\u001b[0m \u001b[0mdata_size\u001b[0m \u001b[1;33m=\u001b[0m \u001b[0mself\u001b[0m\u001b[1;33m.\u001b[0m\u001b[0m_writedata\u001b[0m\u001b[1;33m(\u001b[0m\u001b[0mfileobj\u001b[0m\u001b[1;33m)\u001b[0m\u001b[1;33m\u001b[0m\u001b[0m\n\u001b[0m\u001b[0;32m    748\u001b[0m \u001b[1;33m\u001b[0m\u001b[0m\n\u001b[0;32m    749\u001b[0m             \u001b[1;31m# Set the various data location attributes on newly-written HDUs\u001b[0m\u001b[1;33m\u001b[0m\u001b[1;33m\u001b[0m\u001b[0m\n",
      "\u001b[1;32m/home/juanito/anaconda2/lib/python2.7/site-packages/astropy/io/fits/hdu/base.pyc\u001b[0m in \u001b[0;36m_writedata\u001b[1;34m(self, fileobj)\u001b[0m\n\u001b[0;32m    696\u001b[0m             \u001b[1;31m# rescaled, so it can be copied, unmodified, directly from an\u001b[0m\u001b[1;33m\u001b[0m\u001b[1;33m\u001b[0m\u001b[0m\n\u001b[0;32m    697\u001b[0m             \u001b[1;31m# existing file or buffer\u001b[0m\u001b[1;33m\u001b[0m\u001b[1;33m\u001b[0m\u001b[0m\n\u001b[1;32m--> 698\u001b[1;33m             \u001b[0msize\u001b[0m \u001b[1;33m+=\u001b[0m \u001b[0mself\u001b[0m\u001b[1;33m.\u001b[0m\u001b[0m_writedata_direct_copy\u001b[0m\u001b[1;33m(\u001b[0m\u001b[0mfileobj\u001b[0m\u001b[1;33m)\u001b[0m\u001b[1;33m\u001b[0m\u001b[0m\n\u001b[0m\u001b[0;32m    699\u001b[0m \u001b[1;33m\u001b[0m\u001b[0m\n\u001b[0;32m    700\u001b[0m \u001b[1;33m\u001b[0m\u001b[0m\n",
      "\u001b[1;32m/home/juanito/anaconda2/lib/python2.7/site-packages/astropy/io/fits/hdu/base.pyc\u001b[0m in \u001b[0;36m_writedata_direct_copy\u001b[1;34m(self, fileobj)\u001b[0m\n\u001b[0;32m    730\u001b[0m         \"\"\"\n\u001b[0;32m    731\u001b[0m \u001b[1;33m\u001b[0m\u001b[0m\n\u001b[1;32m--> 732\u001b[1;33m         \u001b[0mraw\u001b[0m \u001b[1;33m=\u001b[0m \u001b[0mself\u001b[0m\u001b[1;33m.\u001b[0m\u001b[0m_get_raw_data\u001b[0m\u001b[1;33m(\u001b[0m\u001b[0mself\u001b[0m\u001b[1;33m.\u001b[0m\u001b[0m_data_size\u001b[0m\u001b[1;33m,\u001b[0m \u001b[1;34m'ubyte'\u001b[0m\u001b[1;33m,\u001b[0m \u001b[0mself\u001b[0m\u001b[1;33m.\u001b[0m\u001b[0m_data_offset\u001b[0m\u001b[1;33m)\u001b[0m\u001b[1;33m\u001b[0m\u001b[0m\n\u001b[0m\u001b[0;32m    733\u001b[0m         \u001b[1;32mif\u001b[0m \u001b[0mraw\u001b[0m \u001b[1;32mis\u001b[0m \u001b[1;32mnot\u001b[0m \u001b[0mNone\u001b[0m\u001b[1;33m:\u001b[0m\u001b[1;33m\u001b[0m\u001b[0m\n\u001b[0;32m    734\u001b[0m             \u001b[0mfileobj\u001b[0m\u001b[1;33m.\u001b[0m\u001b[0mwritearray\u001b[0m\u001b[1;33m(\u001b[0m\u001b[0mraw\u001b[0m\u001b[1;33m)\u001b[0m\u001b[1;33m\u001b[0m\u001b[0m\n",
      "\u001b[1;32m/home/juanito/anaconda2/lib/python2.7/site-packages/astropy/io/fits/hdu/base.pyc\u001b[0m in \u001b[0;36m_get_raw_data\u001b[1;34m(self, shape, code, offset)\u001b[0m\n\u001b[0;32m    566\u001b[0m                               offset=offset)\n\u001b[0;32m    567\u001b[0m         \u001b[1;32melif\u001b[0m \u001b[0mself\u001b[0m\u001b[1;33m.\u001b[0m\u001b[0m_file\u001b[0m\u001b[1;33m:\u001b[0m\u001b[1;33m\u001b[0m\u001b[0m\n\u001b[1;32m--> 568\u001b[1;33m             \u001b[1;32mreturn\u001b[0m \u001b[0mself\u001b[0m\u001b[1;33m.\u001b[0m\u001b[0m_file\u001b[0m\u001b[1;33m.\u001b[0m\u001b[0mreadarray\u001b[0m\u001b[1;33m(\u001b[0m\u001b[0moffset\u001b[0m\u001b[1;33m=\u001b[0m\u001b[0moffset\u001b[0m\u001b[1;33m,\u001b[0m \u001b[0mdtype\u001b[0m\u001b[1;33m=\u001b[0m\u001b[0mcode\u001b[0m\u001b[1;33m,\u001b[0m \u001b[0mshape\u001b[0m\u001b[1;33m=\u001b[0m\u001b[0mshape\u001b[0m\u001b[1;33m)\u001b[0m\u001b[1;33m\u001b[0m\u001b[0m\n\u001b[0m\u001b[0;32m    569\u001b[0m         \u001b[1;32melse\u001b[0m\u001b[1;33m:\u001b[0m\u001b[1;33m\u001b[0m\u001b[0m\n\u001b[0;32m    570\u001b[0m             \u001b[1;32mreturn\u001b[0m \u001b[0mNone\u001b[0m\u001b[1;33m\u001b[0m\u001b[0m\n",
      "\u001b[1;32m/home/juanito/anaconda2/lib/python2.7/site-packages/astropy/io/fits/file.pyc\u001b[0m in \u001b[0;36mreadarray\u001b[1;34m(self, size, offset, dtype, shape)\u001b[0m\n\u001b[0;32m    266\u001b[0m                 memmap = Memmap(self._file,\n\u001b[0;32m    267\u001b[0m                                 \u001b[0mmode\u001b[0m\u001b[1;33m=\u001b[0m\u001b[0mMEMMAP_MODES\u001b[0m\u001b[1;33m[\u001b[0m\u001b[0mself\u001b[0m\u001b[1;33m.\u001b[0m\u001b[0mmode\u001b[0m\u001b[1;33m]\u001b[0m\u001b[1;33m,\u001b[0m\u001b[1;33m\u001b[0m\u001b[0m\n\u001b[1;32m--> 268\u001b[1;33m                                 dtype=np.uint8)\n\u001b[0m\u001b[0;32m    269\u001b[0m \u001b[1;33m\u001b[0m\u001b[0m\n\u001b[0;32m    270\u001b[0m                 \u001b[1;31m# Now we immediately discard the memmap array; we are really\u001b[0m\u001b[1;33m\u001b[0m\u001b[1;33m\u001b[0m\u001b[0m\n",
      "\u001b[1;32m/home/juanito/anaconda2/lib/python2.7/site-packages/numpy/core/memmap.pyc\u001b[0m in \u001b[0;36m__new__\u001b[1;34m(subtype, filename, dtype, mode, offset, shape, order)\u001b[0m\n\u001b[0;32m    221\u001b[0m             \u001b[1;32mraise\u001b[0m \u001b[0mValueError\u001b[0m\u001b[1;33m(\u001b[0m\u001b[1;34m\"shape must be given\"\u001b[0m\u001b[1;33m)\u001b[0m\u001b[1;33m\u001b[0m\u001b[0m\n\u001b[0;32m    222\u001b[0m \u001b[1;33m\u001b[0m\u001b[0m\n\u001b[1;32m--> 223\u001b[1;33m         \u001b[0mfid\u001b[0m\u001b[1;33m.\u001b[0m\u001b[0mseek\u001b[0m\u001b[1;33m(\u001b[0m\u001b[1;36m0\u001b[0m\u001b[1;33m,\u001b[0m \u001b[1;36m2\u001b[0m\u001b[1;33m)\u001b[0m\u001b[1;33m\u001b[0m\u001b[0m\n\u001b[0m\u001b[0;32m    224\u001b[0m         \u001b[0mflen\u001b[0m \u001b[1;33m=\u001b[0m \u001b[0mfid\u001b[0m\u001b[1;33m.\u001b[0m\u001b[0mtell\u001b[0m\u001b[1;33m(\u001b[0m\u001b[1;33m)\u001b[0m\u001b[1;33m\u001b[0m\u001b[0m\n\u001b[0;32m    225\u001b[0m         \u001b[0mdescr\u001b[0m \u001b[1;33m=\u001b[0m \u001b[0mdtypedescr\u001b[0m\u001b[1;33m(\u001b[0m\u001b[0mdtype\u001b[0m\u001b[1;33m)\u001b[0m\u001b[1;33m\u001b[0m\u001b[0m\n",
      "\u001b[1;31mValueError\u001b[0m: I/O operation on closed file"
     ]
    }
   ],
   "source": [
    "#A continuación procedí a guardar las extensiones 1 y 2 (que corresponden a la imagen de ciencia y a la que contiene el inverso de la varianza) en un archivo\n",
    "\n",
    "Im1[1].writeto('sci_f555w_n121.fits',clobber=True)\n",
    "Im1[2].writeto('invar_f555w_n121.fits',clobber=True)\n",
    "Im2[1].writeto('sci_f814w_n121.fits',clobber=True)\n",
    "Im2[2].writeto('invar_f814w_n121.fits',clobber=True)"
   ]
  },
  {
   "cell_type": "code",
   "execution_count": 63,
   "metadata": {
    "collapsed": true
   },
   "outputs": [],
   "source": [
    "Im1.close()\n",
    "Im2.close()"
   ]
  },
  {
   "cell_type": "markdown",
   "metadata": {
    "collapsed": true
   },
   "source": [
    "Las imágenes de ambos filtros están alineadas. Esto lo hice comparando la posición en pixeles de un par de estrellas y observé que en ambas imágenes, la misma estrella tenían una coordenada muy similar."
   ]
  },
  {
   "cell_type": "markdown",
   "metadata": {
    "collapsed": true
   },
   "source": [
    "3.- "
   ]
  },
  {
   "cell_type": "markdown",
   "metadata": {
    "collapsed": true
   },
   "source": [
    "Para detectar las fuentes de las imágenes de manera independientes usé _SExtractor_. Para estó modifiqué, primero, los parametros del archivo **default.sex**. Los parámetos que cambié fueron los siguientes:\n",
    "   \n",
    "   - DETECT_MINAREA ----> 4\n",
    "   - PHOT_APERTURES ----> 6\n",
    "   - MAG_ZEROPOINT  ----> 25\n",
    "   - GAIN           ----> 2.0\n",
    "   - Pixel_Scale    ----> 0.0\n",
    "   - Seeing_FWHM    ----> 0.065 (El FWHM lo encontré en la página: http://www.stsci.edu/hst/acs/documents/handbooks/cycle19/c05_imaging7.html)\n",
    "   - WEIGHT_IMAGE   ----> \"Nombre_de_la_imagen_de_varianza_inversa\" (el nombre depende del filtro.)\n",
    "   \n",
    "Luego en la terminal inicié el ambiente de _ureka_ y posteriomente corrí SExtractor usando el comando _sex nombre_imagen_de_ciencia.fits_. \n",
    "\n",
    "Con éste se detectaron las fuentes para cada imagen de distinto filtro; para el filtro _f555w_ se detectaron _5347_ fuentes y para el filtro _f814w_ se detectaron _4411_ fuentes. Se creó el catalogo para cada filtro con todas las fuentes y sus respectivas coordenadas (RA y DEC) y con sus respectivas magnitudes (MAG_APER) y el error de las magnitudes (MAGERR_APER).\n",
    "\n",
    "\n",
    "   "
   ]
  },
  {
   "cell_type": "code",
   "execution_count": 66,
   "metadata": {
    "collapsed": false
   },
   "outputs": [],
   "source": [
    "from astropy.coordinates import SkyCoord \n",
    "from astropy import units as u \n",
    "from astropy.io import ascii \n",
    "import numpy as np\n",
    "import matplotlib.pyplot as plt\n",
    "\n",
    "#Lista de archivos de los catalogos obtenidos con SExtractor\n",
    "Catalogos = ['test_f555w.cat', 'test_f814w.cat'] \n",
    "a = []  \n",
    "cat = []\n",
    "\n",
    "for c in Catalogos: \n",
    "    data = ascii.read(c) \n",
    "    cat.append(data) \n",
    "    a.append(SkyCoord(ra=data['ALPHA_J2000'], dec=data['DELTA_J2000'],unit='deg'))\n",
    "\n",
    "idx, d2d, d3d = SkyCoord.match_to_catalog_sky(a[0], a[1]) \n",
    "# lista de tuplas que relaciona los archivos de los catálogos entre si. \n",
    "matches = list(zip(range(0, len(idx)), idx, d2d)) \n",
    "\n",
    "# Extrayendo los catálogos. \n",
    "\n",
    "idx1, idx2, d2d = zip(*matches) \n",
    "cat[0] = cat[0][list(idx1)] \n",
    "cat[1] = cat[1][list(idx2)]\n",
    "\n",
    "f555w = list(map(lambda x: -2.5*np.log10(x), cat[0]['MAG_APER'])) \n",
    "f814w = list(map(lambda x: -2.5*np.log10(x), cat[1]['MAG_APER']))\n",
    "\n",
    "ejex = list(map(lambda x: x[0]-x[1],zip(f555w,f814w))) \n",
    "ejey = f555w\n",
    "\n",
    "plt.scatter(ejex,ejey,marker='o',c='Black',s=1) \n",
    "plt.xlabel('F555W - F814W') \n",
    "plt.ylabel('F555W') \n",
    "plt.gca().invert_xaxis() \n",
    "plt.tight_layout() \n",
    "plt.show()"
   ]
  },
  {
   "cell_type": "code",
   "execution_count": null,
   "metadata": {
    "collapsed": true
   },
   "outputs": [],
   "source": []
  }
 ],
 "metadata": {
  "kernelspec": {
   "display_name": "Python [Root]",
   "language": "python",
   "name": "Python [Root]"
  },
  "language_info": {
   "codemirror_mode": {
    "name": "ipython",
    "version": 2
   },
   "file_extension": ".py",
   "mimetype": "text/x-python",
   "name": "python",
   "nbconvert_exporter": "python",
   "pygments_lexer": "ipython2",
   "version": "2.7.12"
  }
 },
 "nbformat": 4,
 "nbformat_minor": 0
}
