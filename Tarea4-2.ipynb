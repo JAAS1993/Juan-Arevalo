{
 "cells": [
  {
   "cell_type": "markdown",
   "metadata": {
    "collapsed": true
   },
   "source": [
    "# TAREA 4.2\n",
    "\n",
    "## a) Experiencia Observacional.\n",
    "\n",
    "Una vez que llegamos al Observatorio UC Santa Martina, hicimos un reconocimiento del instrumeto PUCHEROS instalado en el telescopio ESO50.\n",
    "\n",
    "PUC High Echelle Resolution Optical Spectrograph (PUCHEROS), como dice el nombre es un espectrografo echelle de alta resolución. \n",
    "\n",
    "Después de darnos todas las instrucciones correspondientes acerca del uso del telescopio y de cómo sacar el espectro de una estrella correspondiente, comenzamos con la observación en si:\n",
    "\n",
    "**1.** En grupo decidimos que candidata a binaria observaremos. Para esto observamos uno de los gráficos hecho en la parte 1 de la tarea 4 y llegamos a la conclusión de que partiríamos observando el objeto HD198044, luego HD222891 y por último HD205403.\n",
    "\n",
    "**2.** Hicimos subgrupos de 3 personas para obsevar distintos objetos y así aprovechar el poco tiempo que tuvimos de observación.\n",
    "\n",
    "**3.** Lo primero que se debía hacer antes de sacar el espectro de la candidata a binaria, era encender la lámpara de calibración (ThAr) y sacar la imágen. Luego, sacar el espectro correspondiente a la binaria y por último, nuevamente, había que obtener el espectro de la lámpara de calibración.\n",
    "\n",
    "**4.** Repetimos este proceso para cada binaria.\n",
    "\n",
    "Notar que para _HD198044_ usamos un tiempo de exposición de 200 y de 400 segundos, para _HD222891_ y _HD205403_ usamos un tiempo de exposición de 400 segundos. Cabe destacar que para las primeras 2 observaciones de HD198044, la sala en donde se encuentra PUCHEROS estaba con la luz encendida, por lo que al momento de ver el espectro se lograba apreciar mucho ruido y tuvimos que repetir una vez más la observación de este objeto. "
   ]
  },
  {
   "cell_type": "code",
   "execution_count": null,
   "metadata": {
    "collapsed": true
   },
   "outputs": [],
   "source": []
  }
 ],
 "metadata": {
  "kernelspec": {
   "display_name": "Python [Root]",
   "language": "python",
   "name": "Python [Root]"
  },
  "language_info": {
   "codemirror_mode": {
    "name": "ipython",
    "version": 2
   },
   "file_extension": ".py",
   "mimetype": "text/x-python",
   "name": "python",
   "nbconvert_exporter": "python",
   "pygments_lexer": "ipython2",
   "version": "2.7.12"
  }
 },
 "nbformat": 4,
 "nbformat_minor": 0
}
