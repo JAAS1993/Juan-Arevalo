{
 "cells": [
  {
   "cell_type": "markdown",
   "metadata": {},
   "source": [
    "# Sistema de Cúmulos Globulares de M87"
   ]
  },
  {
   "cell_type": "code",
   "execution_count": 1,
   "metadata": {
    "collapsed": false
   },
   "outputs": [
    {
     "name": "stdout",
     "output_type": "stream",
     "text": [
      "Filename: hst_9401_02_acs_wfc_f475w_drz.fits\n",
      "No.    Name         Type      Cards   Dimensions   Format\n",
      "0    PRIMARY     PrimaryHDU     788   ()              \n",
      "1    SCI         ImageHDU        85   (4238, 4213)   float32   \n",
      "2    WHT         ImageHDU        47   (4238, 4213)   float32   \n",
      "3    CTX         ImageHDU        40   (4238, 4213)   int32   \n",
      "4    HDRTAB      BinTableHDU    631   4R x 311C    [9A, 3A, J, D, D, D, D, D, D, D, D, D, D, D, D, D, J, 3A, 9A, 7A, 18A, 4A, D, D, D, D, 3A, D, D, D, D, D, D, D, D, D, D, D, D, J, 8A, 23A, D, D, D, D, J, J, J, 8A, J, 23A, 9A, 19A, J, 4A, J, J, J, J, J, J, 23A, D, D, D, D, J, J, 3A, 23A, 4A, 7A, J, D, D, D, 23A, 1A, J, D, D, D, 13A, 3A, 4A, 4A, 12A, 12A, 23A, 8A, 23A, 10A, 10A, D, D, 3A, 3A, 23A, 4A, 8A, 7A, 23A, D, J, D, 6A, 9A, 8A, D, D, J, 4A, 18A, 3A, J, 5A, 7A, 3A, D, 13A, 8A, 4A, 3A, J, J, J, J, J, J, J, D, D, D, D, D, D, 23A, 1A, D, 23A, D, D, D, 3A, 23A, J, 1A, 3A, 1A, D, 3A, 6A, J, D, D, D, D, D, D, D, D, D, D, 23A, D, D, D, D, 3A, D, D, D, 1A, J, J, J, J, J, J, 23A, J, 5A, 7A, D, D, D, D, D, D, D, D, D, D, D, D, D, D, D, D, D, 12A, D, 24A, 23A, D, 1A, 1A, D, J, D, D, 1A, 1A, D, 4A, J, D, J, 8A, D, J, D, J, J, 23A, 23A, D, 8A, D, 29A, D, 3A, D, J, D, D, 3A, 7A, 4A, 1A, D, 3A, J, 1A, 1A, 1A, 1A, D, D, D, D, D, D, 4A, D, 4A, D, 4A, J, 4A, 3A, 1A, J, J, J, 1A, D, D, D, D, J, 3A, J, J, 6A, J, D, D, 7A, D, D, 3A, 8A, 1A, D, J, D, J, J, 5A, 4A, J, D, D, D, D, D, D, D, D, D, D, D, D, D, D, 8A, 8A, 3A, 3A]   \n",
      "5    EXP         ImageHDU         8   (4238, 4213)   float32   \n",
      "_________________________________________________________________________________________________________________________\n",
      " \n",
      "Filename: hst_9401_02_acs_wfc_f850lp_drz.fits\n",
      "No.    Name         Type      Cards   Dimensions   Format\n",
      "0    PRIMARY     PrimaryHDU     824   ()              \n",
      "1    SCI         ImageHDU        85   (4238, 4213)   float32   \n",
      "2    WHT         ImageHDU        47   (4238, 4213)   float32   \n",
      "3    CTX         ImageHDU        40   (4238, 4213)   int32   \n",
      "4    HDRTAB      BinTableHDU    631   6R x 311C    [9A, 3A, J, D, D, D, D, D, D, D, D, D, D, D, D, D, J, 3A, 9A, 7A, 18A, 4A, D, D, D, D, 3A, D, D, D, D, D, D, D, D, D, D, D, D, J, 8A, 23A, D, D, D, D, J, J, J, 8A, J, 23A, 9A, 19A, J, 4A, J, J, J, J, J, J, 23A, D, D, D, D, J, J, 3A, 23A, 4A, 7A, J, D, D, D, 23A, 1A, J, D, D, D, 13A, 3A, 4A, 4A, 12A, 12A, 23A, 8A, 23A, 10A, 10A, D, D, 3A, 3A, 23A, 4A, 8A, 7A, 23A, D, J, D, 6A, 9A, 8A, D, D, J, 4A, 18A, 3A, J, 6A, 7A, 3A, D, 13A, 8A, 4A, 3A, J, J, J, J, J, J, J, D, D, D, D, D, D, 23A, 1A, D, 23A, D, D, D, 3A, 23A, J, 1A, 3A, 1A, D, 3A, 6A, J, D, D, D, D, D, D, D, D, D, D, 23A, D, D, D, D, 3A, D, D, D, 1A, J, J, J, J, J, J, 23A, J, 5A, 7A, D, D, D, D, D, D, D, D, D, D, D, D, D, D, D, D, D, 12A, D, 24A, 23A, D, 1A, 1A, D, J, D, D, 1A, 1A, D, 4A, J, D, J, 8A, D, J, D, J, J, 23A, 23A, D, 8A, D, 30A, D, 3A, D, J, D, D, 3A, 7A, 4A, 1A, D, 3A, J, 1A, 1A, 1A, 1A, D, D, D, D, D, D, 4A, D, 4A, D, 4A, J, 4A, 3A, 1A, J, J, J, 1A, D, D, D, D, J, 3A, J, J, 6A, J, D, D, 7A, D, D, 3A, 8A, 1A, D, J, D, J, J, 5A, 4A, J, D, D, D, D, D, D, D, D, D, D, D, D, D, D, 8A, 8A, 3A, 3A]   \n",
      "5    EXP         ImageHDU         8   (4238, 4213)   float32   \n"
     ]
    }
   ],
   "source": [
    "from astropy.io import fits\n",
    "\n",
    "#Procederé a abrir las imágenes\n",
    "Im1=fits.open('hst_9401_02_acs_wfc_f475w_drz.fits','readonly')\n",
    "Im2=fits.open('hst_9401_02_acs_wfc_f850lp_drz.fits','readonly')\n",
    "\n",
    "#Veré la información que contiene cada archivo.fits\n",
    "Im1.info()\n",
    "print \"_________________________________________________________________________________________________________________________\"\n",
    "print \" \"\n",
    "Im2.info()"
   ]
  },
  {
   "cell_type": "code",
   "execution_count": 2,
   "metadata": {
    "collapsed": false
   },
   "outputs": [],
   "source": [
    "#Observando el header para ver información relevante para los parámetros de SExtractor.\n",
    "#Im1[0].header"
   ]
  },
  {
   "cell_type": "code",
   "execution_count": 3,
   "metadata": {
    "collapsed": true
   },
   "outputs": [],
   "source": [
    "#Guardo ahora las imágenes de ciencia y de peso:\n",
    "Im1[1].writeto('sci_f475w_m87.fits',clobber=True)\n",
    "Im1[2].writeto('invar_f475w_m87.fits',clobber=True)\n",
    "Im2[1].writeto('sci_f850pl_m87.fits',clobber=True)\n",
    "Im2[2].writeto('invar_f850pl_m87.fits',clobber=True)"
   ]
  },
  {
   "cell_type": "code",
   "execution_count": 4,
   "metadata": {
    "collapsed": true
   },
   "outputs": [],
   "source": [
    "Im1.close()\n",
    "Im2.close()"
   ]
  },
  {
   "cell_type": "markdown",
   "metadata": {
    "collapsed": true
   },
   "source": [
    "## Corriendo SExtractor.\n",
    "\n",
    "Una vez obtenidas las imágenes de ciencia y de inverso de la varianza, procedo a cambiar los parametros del archivo default.sex para luego correr SExtractor.\n",
    "\n",
    "Los parámetros que cambié fueron:\n",
    "\n",
    "- CATALOG_NAME: test_f475w.cat (o test_f850lp.cat)\n",
    "- DETECT_MINAREA: 3\n",
    "- DETECT_THRESH: 2.75\n",
    "- PHOT_APERTURES: 7\n",
    "- MAG_ZEROPOINT: 25.736 (F475W) ó 25.930 (F850LP) \n",
    "- GAIN: 2.0\n",
    "- PIXEL_SCALE: 0.0\n",
    "- WEIGHT_TYPE: MAP_WEIGHT\n",
    "- WEIGHT_IMAGE: invar_filtro_m87.fits\n",
    "- SEEING_FWHM: 0.120\n",
    "\n",
    "Escogí **DETECT_MINAREA** igual 3 ya que para este caso encontré que es buen número para diferenciar estrellas de rayos cósmicos, luego fui probando con distintos valores de **DETECT_THRESH** para encontrar un buen valor, aquí comencé de un valor igual a 5 y fui bajando el valor, cuando llegué a 2 la detección de objetos aumentó mucho comparado con un valor de 3, esto quiere decir que ahí está el límite de una buena deteccion de estrellas.\n",
    "Para **PHOT_APERTURES** abrí con ds9 una imágen de ciencia y ví el diámetro de un par de objetos y saqué un promedio de 7 pixeles. Para los valores del **GAIN** lo encontré en la siguiente página http://www.stsci.edu/hst/acs/documents/isrs/isr0401.pdf, y para **SEEING_FWHM** lo encontré en http://www.stsci.edu/hst/acs/documents/handbooks/current/c05_imaging4.html. **MAG_ZEROPOINT** lo obtuve en la siguiente página http://www.stsci.edu/hst/acs/documents/isrs/isr0702.pdf.\n",
    "\n",
    "Utilizando SExtractor en la terminal obtuve:\n",
    "\n",
    "juanito@juanito-op:~/Documentos/Experimental/TAREA5$ sex sci_f475w_m87.fits\n",
    "\n",
    "----- SExtractor 2.8.6 started on 2016-11-25 at 18:02:03 with 1 thread\n",
    "\n",
    "Measuring from: \"Unnamed\" [1/1] / 4238 x 4213 / 0 bits FLOATING POINT data\n",
    "Weighting from: \"Unnamed\" [1/1] / 4238 x 4213 / 0 bits FLOATING POINT data\n",
    "(M+D) Background: 0.167588   RMS: 0.0131859  / Threshold: 0.0362613  \n",
    "Objects: detected 7573     / sextracted 5019                   \n",
    "All done (in 3 s)\n",
    "\n",
    "------------------------------------------------------------------------------------------------\n",
    "\n",
    "juanito@juanito-op:~/Documentos/Experimental/TAREA5$ sex sci_f850pl_m87.fits\n",
    "\n",
    "----- SExtractor 2.8.6 started on 2016-11-25 at 19:13:19 with 1 thread\n",
    "\n",
    "Measuring from: \"Unnamed\" [1/1] / 4238 x 4213 / 0 bits FLOATING POINT data\n",
    "Weighting from: \"Unnamed\" [1/1] / 4238 x 4213 / 0 bits FLOATING POINT data\n",
    "(M+D) Background: 0.175354   RMS: 0.0133454  / Threshold: 0.0366998  \n",
    "Objects: detected 11238    / sextracted 7331                   \n",
    "All done (in 5 s)\n"
   ]
  },
  {
   "cell_type": "markdown",
   "metadata": {},
   "source": [
    "## a) Histograma de Color"
   ]
  },
  {
   "cell_type": "code",
   "execution_count": 5,
   "metadata": {
    "collapsed": false
   },
   "outputs": [
    {
     "name": "stderr",
     "output_type": "stream",
     "text": [
      "/home/juanito/anaconda2/lib/python2.7/site-packages/matplotlib/font_manager.py:273: UserWarning: Matplotlib is building the font cache using fc-list. This may take a moment.\n",
      "  warnings.warn('Matplotlib is building the font cache using fc-list. This may take a moment.')\n"
     ]
    },
    {
     "name": "stdout",
     "output_type": "stream",
     "text": [
      "Populating the interactive namespace from numpy and matplotlib\n"
     ]
    },
    {
     "data": {
      "text/plain": [
       "<matplotlib.text.Text at 0x7f4ea67bf6d0>"
      ]
     },
     "execution_count": 5,
     "metadata": {},
     "output_type": "execute_result"
    },
    {
     "data": {
      "image/png": "[encoded data removed]",
      "text/plain": [
       "<matplotlib.figure.Figure at 0x7f4ea6a34f10>"
      ]
     },
     "metadata": {},
     "output_type": "display_data"
    }
   ],
   "source": [
    "from astropy.coordinates import SkyCoord \n",
    "from astropy import units as u \n",
    "from astropy.io import ascii \n",
    "import numpy as np\n",
    "import statistics\n",
    "import matplotlib.pyplot as plt\n",
    "%pylab inline\n",
    "\n",
    "coords = []  \n",
    "catalogos = []\n",
    "\n",
    "cat_f475w = ascii.read('test_f475w.cat') \n",
    "catalogos.append(cat_f475w) \n",
    "coords.append(SkyCoord(ra=cat_f475w['ALPHA_J2000'], dec=cat_f475w['DELTA_J2000'],unit='deg'))\n",
    "\n",
    "cat_f850lp = ascii.read('test_f850lp.cat') \n",
    "catalogos.append(cat_f850lp) \n",
    "coords.append(SkyCoord(ra=cat_f850lp['ALPHA_J2000'], dec=cat_f850lp['DELTA_J2000'],unit='deg'))\n",
    "\n",
    "idx, d2d, d3d = SkyCoord.match_to_catalog_sky(coords[0], coords[1]) \n",
    "\n",
    "match = list(zip(range(0, len(idx)), idx, d2d)) \n",
    "\n",
    "idx1, idx2, d2d = zip(*match) \n",
    "catalogos[0] = catalogos[0][list(idx1)] \n",
    "catalogos[1] = catalogos[1][list(idx2)]\n",
    "\n",
    "f475w = list(map(lambda x: x+0.076+0.44, catalogos[0]['MAG_APER'])) \n",
    "f850lp = list(map(lambda x: x+0.029+0.81, catalogos[1]['MAG_APER']))\n",
    "\n",
    "##########################################  HISTOGRAMA  ####################################################\n",
    "\n",
    "g_z=[] #Lista que contendrá la diferencia entre las magnitudes F474W y F850LP\n",
    "for n in range(len(f475w)):\n",
    "    dif=f475w[n]-f850lp[n]\n",
    "    if dif > -2 and dif < 4:\n",
    "        g_z.append(dif)\n",
    "promedio=mean(g_z)\n",
    "desv_standard=statistics.pstdev(g_z)\n",
    "   \n",
    "plt.subplots(figsize=(12,6))\n",
    "plt.hist(g_z, 100, facecolor='green')\n",
    "plt.title(\"HISTOGRAMA DE COLOR\")\n",
    "plt.xlabel(\"g-z\")\n",
    "plt.ylabel(\"N\")"
   ]
  },
  {
   "cell_type": "markdown",
   "metadata": {
    "collapsed": true
   },
   "source": [
    "Es posible apreciar dos peaks en la distribución de los cúmulos globulares en m87, esto se debe a que hay 2 poblaciones de cúmulos globulares presente en esta galaxia. Estas 2 poblaciones pudieron haberse originado en dos momentos distintos, uno más antiguo que otro debido a que uno está más corrido hacia el azul.\n"
   ]
  },
  {
   "cell_type": "markdown",
   "metadata": {},
   "source": [
    "## b)  Distancia\n",
    "\n",
    "Para calcular distancias, necesito el peak de magnitud para cada filtro. Para esto es necesario plotear 2 histogramas para obtener los peaks."
   ]
  },
  {
   "cell_type": "code",
   "execution_count": 6,
   "metadata": {
    "collapsed": false
   },
   "outputs": [
    {
     "data": {
      "image/png": "[encoded data removed]",
      "text/plain": [
       "<matplotlib.figure.Figure at 0x7f4ea65dca90>"
      ]
     },
     "metadata": {},
     "output_type": "display_data"
    }
   ],
   "source": [
    "#### Histograma magnitud de F475W ###\n",
    "Nf475w=[]\n",
    "for n in range(len(f475w)):\n",
    "    if f475w[n] > 22 and f475w[n] < 30:\n",
    "        Nf475w.append(f475w[n])\n",
    "\n",
    "\n",
    "promedio=mean(Nf475w)\n",
    "desv_standard=statistics.pstdev(Nf475w)\n",
    "\n",
    "plt.subplots(figsize=(12,6))\n",
    "count, bins, ignored = plt.hist(Nf475w, 100, normed=True, facecolor='green')\n",
    "plt.title(\"HISTOGRAMA DE MAGNITUD F475W\")\n",
    "plt.xlabel(\"g\")\n",
    "plt.ylabel(\"N\")\n",
    "## ajuste de gausseana\n",
    "plt.plot(bins, 1/(desv_standard * np.sqrt(2 * np.pi)) * np.exp( - (bins - promedio)**2 / (2 * desv_standard**2) ), linewidth=2, color='r')\n",
    "plt.show()"
   ]
  },
  {
   "cell_type": "code",
   "execution_count": 7,
   "metadata": {
    "collapsed": false,
    "scrolled": true
   },
   "outputs": [
    {
     "data": {
      "text/plain": [
       "<matplotlib.text.Text at 0x7f4ea34e9890>"
      ]
     },
     "execution_count": 7,
     "metadata": {},
     "output_type": "execute_result"
    },
    {
     "data": {
      "image/png": "[encoded data removed]",
      "text/plain": [
       "<matplotlib.figure.Figure at 0x7f4ea675a910>"
      ]
     },
     "metadata": {},
     "output_type": "display_data"
    }
   ],
   "source": [
    "#### Histograma magnitud de F850LP ###\n",
    "Nf850lp=[]\n",
    "for n in range(len(f850lp)):\n",
    "    if f850lp[n] > 22 and f850lp[n] < 29:\n",
    "        Nf850lp.append(f850lp[n])\n",
    "\n",
    "plt.subplots(figsize=(12,6))\n",
    "plt.hist(Nf850lp, 100, normed=True, facecolor='green')\n",
    "plt.title(\"HISTOGRAMA DE MAGNITUD F850LP\")\n",
    "plt.xlabel(\"z\")\n",
    "plt.ylabel(\"N\")"
   ]
  },
  {
   "cell_type": "markdown",
   "metadata": {},
   "source": [
    "Noto que en el primer histograma (F475W) el peaks es de ~26.6 mag, y en el segundo histograma (F850LP) el peak es ~26.9  mag. \n",
    "\n",
    "Ahora para encontrar la distancia a M87 es necesario usar el módulo de distancia: \n",
    "\n",
    "#### m - M = -5 + 5log(d)\n",
    "\n",
    "despejando tengo:\n",
    "\n",
    "#### $d = 10^{(\\frac{m-M+5}{5})}$\n",
    "\n",
    "Luego defino m ~ 26.75 (magnitud aparente que tomé como un promedio de ambos peaks) y la magnitud absoluta de M87 es $M_{V}$ = -7.4 así entonces:"
   ]
  },
  {
   "cell_type": "code",
   "execution_count": 8,
   "metadata": {
    "collapsed": false
   },
   "outputs": [
    {
     "name": "stdout",
     "output_type": "stream",
     "text": [
      "La distancia a M87 es: 67.6082975392 Mpc\n"
     ]
    }
   ],
   "source": [
    "m=26.75\n",
    "Mv=-7.4\n",
    "\n",
    "distancia=10**((m-Mv+5)/5) ##pc\n",
    "\n",
    "print \"La distancia a M87 es:\", distancia/(10**6), \"Mpc\""
   ]
  },
  {
   "cell_type": "markdown",
   "metadata": {},
   "source": [
    "## c) M87 en rayos X\n",
    "\n",
    "La imágen en rayos X de M87 la obtuve de la siguiente página http://chandra.harvard.edu/photo/openFITS/xray_data.html.\n",
    "El tiempor de observación fue de 146 horas."
   ]
  },
  {
   "cell_type": "code",
   "execution_count": 9,
   "metadata": {
    "collapsed": false
   },
   "outputs": [
    {
     "name": "stdout",
     "output_type": "stream",
     "text": [
      "Filename: m87_broadband.fits\n",
      "No.    Name         Type      Cards   Dimensions   Format\n",
      "0    PRIMARY     PrimaryHDU      18   (1550, 1550)   float32   \n"
     ]
    }
   ],
   "source": [
    "m87_X=fits.open('m87_broadband.fits','readonly')\n",
    "m87_X.info()"
   ]
  },
  {
   "cell_type": "markdown",
   "metadata": {},
   "source": [
    "Para detectar fuentes, usé sextractor y cambíe los siguientes parámetros:\n",
    "- DETECT_MINAREA: 3\n",
    "- DETECT_THRESHOLD: 3\n",
    "- PHOT_APERTURE: 2\n",
    "\n",
    "y la detección fue la siguiente:\n",
    "\n",
    "juanito@juanito-op:~/Documentos/Experimental/TAREA5$ sex m87_broadband.fits\n",
    "\n",
    "----- SExtractor 2.8.6 started on 2016-11-27 at 23:23:03 with 1 thread\n",
    "\n",
    "Measuring from: \"Unnamed\"  / 1550 x 1550 / 0 bits FLOATING POINT data\n",
    "(M+D) Background: 6.29961e-06 RMS: 8.03056e-06 / Threshold: 2.40917e-05 \n",
    "Objects: detected 1253     / sextracted 808 "
   ]
  },
  {
   "cell_type": "markdown",
   "metadata": {},
   "source": [
    "La emisión en rayos X se da en fuentes que contienen gas _muy caliente_, y en galaxias puede prevenir, esta radiación, de alguna Supernova, disco de acreción de Agujero Negro o jets de emisión. Para el caso de una Supernova, es dificil detectar su tasa de emisión de rayos X debido a su espontaneidad, en cambio en un cúmulo globular es más factible esta detección debido a su alta densidad que provoca que las partículas que emiten estén bien energizadas."
   ]
  },
  {
   "cell_type": "code",
   "execution_count": null,
   "metadata": {
    "collapsed": true
   },
   "outputs": [],
   "source": []
  }
 ],
 "metadata": {
  "kernelspec": {
   "display_name": "Python [Root]",
   "language": "python",
   "name": "Python [Root]"
  },
  "language_info": {
   "codemirror_mode": {
    "name": "ipython",
    "version": 2
   },
   "file_extension": ".py",
   "mimetype": "text/x-python",
   "name": "python",
   "nbconvert_exporter": "python",
   "pygments_lexer": "ipython2",
   "version": "2.7.12"
  }
 },
 "nbformat": 4,
 "nbformat_minor": 0
}
