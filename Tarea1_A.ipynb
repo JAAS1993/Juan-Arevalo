{
 "cells": [
  {
   "cell_type": "markdown",
   "metadata": {
    "collapsed": true
   },
   "source": [
    "# **Fotometría de apertura**"
   ]
  },
  {
   "cell_type": "markdown",
   "metadata": {},
   "source": [
    "#Escribir lo que he hecho\n"
   ]
  },
  {
   "cell_type": "markdown",
   "metadata": {},
   "source": [
    "1.- Propiedades de _NGC121_:"
   ]
  },
  {
   "cell_type": "markdown",
   "metadata": {},
   "source": [
    "    Es un cúmulo globular ubicado en la constelacion _\"El Tucán\"_ (Tucana).\n",
    "    Pertenece a la pequeña nube de magallanes (SMC).\n",
    "    Tiene una edad de 10 mil millones de años.\n",
    "    Coordenadas: RA: 00h 26m 48.25s\n",
    "                 DEC: -71° 32' 08''\n",
    "    Semieje mayor: 0.02 kpc\n",
    "    Semieje menor: 0.015 kpc\n",
    "    Distancia métrica: 0.061±0.003 Mpc\n",
    "    \n",
    "    Tabla de los enrojecimientos para distintas bandas, filtros e instrumentos:\n",
    "    \n",
    "    \n",
    "    \n",
    "    "
   ]
  },
  {
   "cell_type": "markdown",
   "metadata": {},
   "source": [
    "|  Instrumento  | filtro  |  Longitud de onda ($\\mu$m)  |    $$A_{\\lambda}$$ (mag)    |\n",
    "    | ------------- |:-------:|:-----------------------:| --------------:|\n",
    "    |    Landolt    |    U    |          0.35           |     0.160      |\n",
    "    |    Landolt    |    B    |          0.43           |     0.134      |\n",
    "    |    Landolt    |    V    |          0.54           |     0.101      |\n",
    "    |    Landolt    |    R    |          0.64           |     0.080      |\n",
    "    |    Landolt    |    I    |          0.80           |     0.056      |\n",
    "    |      ACS      |  f555w  |          0.54           |     0.103      |\n",
    "    |      ACS      |  f814w  |          0.80           |     0.056      |"
   ]
  },
  {
   "cell_type": "markdown",
   "metadata": {},
   "source": [
    "Magnitudes:\n",
    "\n",
    "| Región Espectral | Magnitud Aparente | Magnitud Absoluta |\n",
    "| ---------------- |:-----------------:| -----------------:|\n",
    "|   UltraVioleta   | 14.9515$\\pm$0.0082 | -3.99$\\pm$0.08   |\n",
    "| Infrarrojo Cercano| 9.041$\\pm$0.023  |  -9.90$\\pm$0.09   |"
   ]
  },
  {
   "cell_type": "markdown",
   "metadata": {},
   "source": [
    "**Fuentes**\n",
    ">https://www.nasa.gov/content/goddard/oldest-cluster/#.V6jxcNbtMxB\n",
    "\n",
    ">https://ned.ipac.caltech.edu/cgi-bin/objsearch?objname=NGC+121&extend=no&out_csys=Equatorial&out_equinox=J2000.0&obj_sort=RA+or+Longitude&of=pre_text&zv_breaker=30000.0&list_limit=5&img_stamp=YES#BasicData_0\n"
   ]
  },
  {
   "cell_type": "markdown",
   "metadata": {},
   "source": [
    "2.- Las imágenes las descargué de la página: http://hla.stsci.edu/hlaview.html#Images|filterText%3D%24filterTypes%3D|query_string=NGC121&posfilename=&poslocalname=&posfilecount=&listdelimiter=whitespace&listformat=degrees&RA=6.701040&Dec=-71.535670&Radius=0.200000&inst-control=all&inst=ACS&inst=ACSGrism&inst=WFC3&inst=WFPC2&inst=NICMOS&inst=NICGRISM&inst=COS&inst=WFPC2-PC&inst=STIS&inst=FOS&inst=GHRS&imagetype=best&prop_id=&spectral_elt=&proprietary=both&preview=1&output_size=256&cutout_size=12.8|ra=&dec=&sr=&level=&image=&inst=ACS%2CACSGrism%2CWFC3%2CWFPC2%2CNICMOS%2CNICGRISM%2CCOS%2CWFPC2-PC%2CSTIS%2CFOS%2CGHRS&ds=.\n",
    "\n",
    "_¿Qué es ACS?_ --> El ACS (Advanced Camera for Surveys) es un intrumento abordo del HST (Hubble Space Telescope), en el cual tiene un rango de longitud de onda desde el ultravioleta al infrarrojo cercano. Tiene un amplio campo de visión y una alta calidad de la imagen y alta sensibilidad para obtener la mayor informacion posible del Universo y así también hacer que el HST tenga una mayor probabilidad de descubrimiento. Contiene una herramienta óptica llamada _grism_ tal que puede ralizar espectroscopía.\n",
    "El ACS está compuesto por 3 sub intrumentos o canales: \n",
    "   - WFC (Wide Field Channel)\n",
    "   - SBC (Solar Blind Channel)\n",
    "   - HRC (High Resolution Channel)\n",
    "   \n",
    "_¿Qué es el HRC?_ --> Es un instrumento creado para tomar imágenes detalladas de los centros de la galaxia con agujeros negros supermasivos. El instrumento incluye un cronógrafo que es capáz de mejorar el contraste de Hubble cerca de objetos brillantes.\n",
    "\n",
    "El filtro F555W es cercano al filtro V del sistema Johnson y el filtro F814W es cercano al filtro I (Esto se puede observar en la primera tabla del inciso anterior).\n",
    "\n",
    "Las imágenes tienen la extensión **FITS** (Flexible Image Transport System) lo que define un formato de archivo digital útil para el almacenamiento, transmisión y procesamiento de imágenes cientificas.\n",
    "\n"
   ]
  },
  {
   "cell_type": "code",
   "execution_count": 2,
   "metadata": {
    "collapsed": false
   },
   "outputs": [],
   "source": [
    "from astropy.io import fits\n",
    "Im1=fits.open('hst_10396_a4_acs_hrc_f555w_drz.fits','readonly') #La variable Im1 es una lista con el contenido del archivo.fits\n",
    "Im2=fits.open('hst_10396_a4_acs_hrc_f814w_drz.fits','readonly')"
   ]
  },
  {
   "cell_type": "code",
   "execution_count": 3,
   "metadata": {
    "collapsed": false,
    "scrolled": true
   },
   "outputs": [
    {
     "name": "stdout",
     "output_type": "stream",
     "text": [
      "Filename: hst_10396_a4_acs_hrc_f555w_drz.fits\n",
      "No.    Name         Type      Cards   Dimensions   Format\n",
      "0    PRIMARY     PrimaryHDU     824   ()              \n",
      "1    SCI         ImageHDU        70   (1442, 1464)   float32   \n",
      "2    WHT         ImageHDU        47   (1442, 1464)   float32   \n",
      "3    CTX         ImageHDU        40   (1442, 1464)   int32   \n",
      "4    HDRTAB      BinTableHDU    631   6R x 311C    [9A, 3A, J, D, D, D, D, D, D, D, D, D, D, D, D, 4A, J, 7A, 9A, 7A, 18A, 4A, D, D, D, D, 3A, D, D, D, D, D, D, D, D, D, D, D, D, J, 8A, 23A, D, D, D, D, J, J, J, 8A, J, 23A, 9A, 19A, D, 1A, D, J, J, J, J, J, 23A, D, D, D, D, J, J, 3A, 23A, D, 4A, J, D, D, D, 3A, 1A, J, D, D, D, D, D, 4A, 4A, 12A, 12A, 3A, 8A, 23A, 10A, 10A, D, D, 3A, 3A, 23A, 4A, 8A, 7A, 3A, D, J, D, 6A, 9A, 8A, D, D, J, 4A, 18A, 3A, J, 5A, 7A, 3A, D, 13A, 8A, 4A, 3A, J, J, J, J, J, J, J, D, D, D, D, D, D, 23A, 1A, D, 23A, D, D, D, 3A, 23A, J, 1A, 3A, 1A, D, 3A, 6A, D, D, D, D, D, D, D, D, D, D, D, 23A, D, D, D, D, 3A, D, D, D, 1A, J, J, J, J, J, J, 23A, J, 5A, 7A, D, D, D, D, D, D, D, D, D, D, D, D, D, D, D, D, D, 12A, D, 24A, 23A, D, 2A, 8A, D, J, D, D, 6A, 13A, D, 19A, J, D, J, 4A, D, D, D, D, D, 3A, 23A, D, 8A, D, 28A, D, 3A, D, J, D, D, 3A, 4A, 9A, 2A, D, 7A, J, 1A, 1A, 1A, 1A, D, D, D, D, D, D, 4A, D, 4A, D, 4A, J, 4A, 3A, 1A, J, J, J, 1A, D, D, D, D, J, 3A, J, J, 6A, J, D, D, 6A, D, D, 3A, 8A, 1A, D, J, D, D, J, 5A, 4A, J, D, D, D, D, D, D, D, D, D, D, D, D, D, D, 8A, 8A, 3A, 3A]   \n",
      "5    EXP         ImageHDU         8   (1442, 1464)   float32   \n",
      "Filename: hst_10396_a4_acs_hrc_f814w_drz.fits\n",
      "No.    Name         Type      Cards   Dimensions   Format\n",
      "0    PRIMARY     PrimaryHDU     824   ()              \n",
      "1    SCI         ImageHDU        70   (1442, 1464)   float32   \n",
      "2    WHT         ImageHDU        47   (1442, 1464)   float32   \n",
      "3    CTX         ImageHDU        40   (1442, 1464)   int32   \n",
      "4    HDRTAB      BinTableHDU    631   6R x 311C    [9A, 3A, J, D, D, D, D, D, D, D, D, D, D, D, D, 4A, J, 7A, 9A, 7A, 18A, 4A, D, D, D, D, 3A, D, D, D, D, D, D, D, D, D, D, D, D, J, 8A, 23A, D, D, D, D, J, J, J, 8A, J, 23A, 9A, 19A, D, 1A, D, J, J, J, J, J, 23A, D, D, D, D, J, J, 3A, 23A, D, 4A, J, D, D, D, 3A, 1A, J, D, D, D, D, D, 4A, 4A, 12A, 12A, 3A, 8A, 23A, 10A, 10A, D, D, 3A, 3A, 23A, 4A, 8A, 7A, 3A, D, J, D, 6A, 9A, 8A, D, D, J, 4A, 18A, 3A, J, 7A, 5A, 3A, D, 13A, 8A, 4A, 3A, J, J, J, J, J, J, J, D, D, D, D, D, D, 23A, 1A, D, 23A, D, D, D, 3A, 23A, J, 1A, 3A, 1A, D, 3A, 6A, D, D, D, D, D, D, D, D, D, D, D, 23A, D, D, D, D, 3A, D, D, D, 1A, J, J, J, J, J, J, 23A, J, 5A, 7A, D, D, D, D, D, D, D, D, D, D, D, D, D, D, D, D, D, 12A, D, 24A, 23A, D, 2A, 8A, D, J, D, D, 6A, 13A, D, 19A, J, D, J, 4A, D, D, D, D, D, 3A, 23A, D, 8A, D, 28A, D, 3A, D, J, D, D, 3A, 4A, 9A, 2A, D, 7A, J, 1A, 1A, 1A, 1A, D, D, D, D, D, D, 4A, D, 4A, D, 4A, J, 4A, 3A, 1A, J, J, J, 1A, D, D, D, D, J, 3A, J, J, 6A, J, D, D, 6A, D, D, 3A, 8A, 1A, D, J, D, D, J, 5A, 4A, J, D, D, D, D, D, D, D, D, D, D, D, D, D, D, 8A, 8A, 3A, 3A]   \n",
      "5    EXP         ImageHDU         8   (1442, 1464)   float32   \n"
     ]
    }
   ],
   "source": [
    "Im1.info() #Con este comando puedo observar las extensiones que tiene el archivo Im1 que abrí en la línea de arriba\n",
    "Im2.info()"
   ]
  },
  {
   "cell_type": "code",
   "execution_count": 6,
   "metadata": {
    "collapsed": false
   },
   "outputs": [
    {
     "data": {
      "text/plain": [
       "XTENSION= 'IMAGE   '           / Image extension                                \n",
       "BITPIX  =                  -32 / array data type                                \n",
       "NAXIS   =                    2 / number of array dimensions                     \n",
       "NAXIS1  =                 1442                                                  \n",
       "NAXIS2  =                 1464                                                  \n",
       "PCOUNT  =                    0 / number of parameters                           \n",
       "GCOUNT  =                    1 / number of groups                               \n",
       "EXTNAME = 'EXP     '                                                            "
      ]
     },
     "execution_count": 6,
     "metadata": {},
     "output_type": "execute_result"
    }
   ],
   "source": [
    "Im1[5].header"
   ]
  },
  {
   "cell_type": "code",
   "execution_count": 7,
   "metadata": {
    "collapsed": false
   },
   "outputs": [],
   "source": [
    "#A continuación procedí a guardar las extensiones 1 y 2 (que corresponden a la imagen de ciencia y a la que contiene el inverso de la varianza) en un archivo\n",
    "\n",
    "Im1[1].writeto('sci_f555w_n121.fits',clobber=True)\n",
    "Im1[2].writeto('invar_f555w_n121.fits',clobber=True)\n",
    "Im2[1].writeto('sci_f814w_n121.fits',clobber=True)\n",
    "Im2[2].writeto('invar_f814w_n121.fits',clobber=True)"
   ]
  },
  {
   "cell_type": "code",
   "execution_count": 8,
   "metadata": {
    "collapsed": true
   },
   "outputs": [],
   "source": [
    "Im1.close()\n",
    "Im2.close()"
   ]
  },
  {
   "cell_type": "markdown",
   "metadata": {
    "collapsed": true
   },
   "source": [
    "Las imágenes de ambos filtros están alineadas. Esto lo hice comparando la posición en pixeles de un par de estrellas y observé que en ambas imágenes, la misma estrella tenían una coordenada muy similar."
   ]
  },
  {
   "cell_type": "markdown",
   "metadata": {
    "collapsed": true
   },
   "source": [
    "3.- "
   ]
  },
  {
   "cell_type": "markdown",
   "metadata": {
    "collapsed": true
   },
   "source": [
    "Para detectar las fuentes de las imágenes de manera independientes usé _SExtractor_. Para estó modifiqué, primero, los parametros del archivo **default.sex**. Los parámetos que cambié fueron los siguientes:\n",
    "   \n",
    "   - DETECT_MINAREA ----> 6\n",
    "   - DETECT_THRESH  ----> 2\n",
    "   - PHOT_APERTURES ----> 6\n",
    "   - MAG_ZEROPOINT  ---->-21.1\n",
    "   - GAIN           ----> 2.0\n",
    "   - WEIGHT_IMAGE   ----> \"Nombre_de_la_imagen_de_varianza_inversa\"\n",
    "   \n",
    "Luego en la terminal inicié el eviroment de _ureka_ y posteriomente corrí SExtractor usando el comando _sex nombre_imagen_de_ciencia.fits_. \n",
    "Con este se detectaron las fuentes para cada imagen de distinto filtro; para el filtro f555w se detectaron 5776 fuentes y para el filtro f814w se detectaron 5229 fuentes. Se creó el catalogo para cada filtro con todas las fuentes y sus respectivas coordenadas (RA y DEC).\n",
    "\n",
    "\n",
    "   "
   ]
  },
  {
   "cell_type": "code",
   "execution_count": null,
   "metadata": {
    "collapsed": true
   },
   "outputs": [],
   "source": []
  }
 ],
 "metadata": {
  "kernelspec": {
   "display_name": "Python [Root]",
   "language": "python",
   "name": "Python [Root]"
  },
  "language_info": {
   "codemirror_mode": {
    "name": "ipython",
    "version": 2
   },
   "file_extension": ".py",
   "mimetype": "text/x-python",
   "name": "python",
   "nbconvert_exporter": "python",
   "pygments_lexer": "ipython2",
   "version": "2.7.12"
  }
 },
 "nbformat": 4,
 "nbformat_minor": 0
}
